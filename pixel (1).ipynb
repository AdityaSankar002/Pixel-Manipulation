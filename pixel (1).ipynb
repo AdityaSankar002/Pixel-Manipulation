{
 "cells": [
  {
   "cell_type": "code",
   "execution_count": 1,
   "id": "ea7f039f-f9d2-47c2-8706-c0676ccd5f29",
   "metadata": {},
   "outputs": [
    {
     "name": "stdout",
     "output_type": "stream",
     "text": [
      "Requirement already satisfied: pillow in c:\\users\\kiit\\anaconda3\\lib\\site-packages (10.2.0)\n",
      "Note: you may need to restart the kernel to use updated packages.\n"
     ]
    }
   ],
   "source": [
    "pip install pillow\n"
   ]
  },
  {
   "cell_type": "code",
   "execution_count": 2,
   "id": "b1064624-2397-406d-b56b-fde5effa2ca2",
   "metadata": {},
   "outputs": [
    {
     "name": "stdout",
     "output_type": "stream",
     "text": [
      "Encrypted image saved as encrypted_image.png\n",
      "Decrypted image saved as decrypted_image.png\n"
     ]
    }
   ],
   "source": [
    "from PIL import Image\n",
    "import numpy as np\n",
    "\n",
    "def encrypt_image(input_path, output_path, key):\n",
    "    # Open the image\n",
    "    img = Image.open(input_path)\n",
    "    img = img.convert(\"RGB\")\n",
    "    data = np.array(img)\n",
    "    \n",
    "    # Encrypt the image by swapping pixels and applying a mathematical operation\n",
    "    np.random.seed(key)\n",
    "    indices = np.arange(data.size // 3)\n",
    "    np.random.shuffle(indices)\n",
    "    shuffled_data = data.reshape(-1, 3)[indices].reshape(data.shape)\n",
    "    encrypted_data = (shuffled_data + key) % 256\n",
    "    \n",
    "    # Save the encrypted image\n",
    "    encrypted_img = Image.fromarray(encrypted_data.astype(np.uint8))\n",
    "    encrypted_img.save(output_path)\n",
    "    print(f\"Encrypted image saved as {output_path}\")\n",
    "\n",
    "def decrypt_image(input_path, output_path, key):\n",
    "    # Open the encrypted image\n",
    "    img = Image.open(input_path)\n",
    "    img = img.convert(\"RGB\")\n",
    "    data = np.array(img)\n",
    "    \n",
    "    # Decrypt the image by reversing the mathematical operation and pixel swapping\n",
    "    decrypted_data = (data - key) % 256\n",
    "    np.random.seed(key)\n",
    "    indices = np.arange(decrypted_data.size // 3)\n",
    "    np.random.shuffle(indices)\n",
    "    reverse_indices = np.argsort(indices)\n",
    "    original_data = decrypted_data.reshape(-1, 3)[reverse_indices].reshape(data.shape)\n",
    "    \n",
    "    # Save the decrypted image\n",
    "    decrypted_img = Image.fromarray(original_data.astype(np.uint8))\n",
    "    decrypted_img.save(output_path)\n",
    "    print(f\"Decrypted image saved as {output_path}\")\n",
    "\n",
    "# Example usage\n",
    "encrypt_image('input_image.png', 'encrypted_image.png', 42)\n",
    "decrypt_image('encrypted_image.png', 'decrypted_image.png', 42)\n"
   ]
  },
  {
   "cell_type": "code",
   "execution_count": null,
   "id": "a7de8ca9-e395-4aea-8a74-de3be7a94ce5",
   "metadata": {},
   "outputs": [],
   "source": []
  }
 ],
 "metadata": {
  "kernelspec": {
   "display_name": "Python 3 (ipykernel)",
   "language": "python",
   "name": "python3"
  },
  "language_info": {
   "codemirror_mode": {
    "name": "ipython",
    "version": 3
   },
   "file_extension": ".py",
   "mimetype": "text/x-python",
   "name": "python",
   "nbconvert_exporter": "python",
   "pygments_lexer": "ipython3",
   "version": "3.11.7"
  }
 },
 "nbformat": 4,
 "nbformat_minor": 5
}
